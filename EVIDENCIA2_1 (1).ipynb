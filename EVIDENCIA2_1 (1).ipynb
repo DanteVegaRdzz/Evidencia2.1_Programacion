{
  "nbformat": 4,
  "nbformat_minor": 0,
  "metadata": {
    "colab": {
      "provenance": []
    },
    "kernelspec": {
      "name": "python3",
      "display_name": "Python 3"
    },
    "language_info": {
      "name": "python"
    }
  },
  "cells": [
    {
      "cell_type": "markdown",
      "source": [
        "# EXPLICACION DEL PROGRAMA.\n",
        "Crearemos una nueva clase llamada RegistroPersonas que tiene una lista personas para almacenar instancias de la clase Persona. El método agregar_persona permite agregar nuevas personas al registro.\n",
        "\n",
        "Luego, creamos una instancia del registro (registro) y agregamos dos personas (persona1 y persona2). Finalmente, mostramos la información de todas las personas en el registro y realizamos una actualización de la edad de una persona con el método cumplir_anios.\n"
      ],
      "metadata": {
        "id": "LwuxY2elUyXz"
      }
    },
    {
      "cell_type": "code",
      "execution_count": null,
      "metadata": {
        "id": "zyION2HqUvn1"
      },
      "outputs": [],
      "source": []
    },
    {
      "cell_type": "code",
      "source": [
        "class Persona:\n",
        "    def __init__(self, nombre, edad, genero):\n",
        "        self.nombre = nombre\n",
        "        self.edad = edad\n",
        "        self.genero = genero\n",
        "\n",
        "    @property\n",
        "    def informacion(self):\n",
        "        return f\"Nombre: {self.nombre}, Edad: {self.edad}, Género: {self.genero}\"\n",
        "\n",
        "    def cumplir_anios(self):\n",
        "        self.edad += 1\n",
        "        return f\"¡Feliz cumpleaños! Ahora tienes {self.edad} años.\"\n",
        "\n",
        "class RegistroPersonas:\n",
        "    def __init__(self):\n",
        "        self.personas = []\n",
        "\n",
        "    def agregar_persona(self, persona):\n",
        "        self.personas.append(persona)\n",
        "        return f\"{persona.nombre} ha sido agregado al registro.\"\n",
        "\n",
        "# Crear una instancia de la clase RegistroPersonas\n",
        "registro = RegistroPersonas()\n",
        "\n",
        "# Agregar personas al registro\n",
        "persona1 = Persona(\"Juan\", 25, \"Masculino\")\n",
        "registro.agregar_persona(persona1)\n",
        "\n",
        "persona2 = Persona(\"Maria\", 30, \"Femenino\")\n",
        "registro.agregar_persona(persona2)\n",
        "\n",
        "# Mostrar información de las personas en el registro\n",
        "for persona in registro.personas:\n",
        "    print(persona.informacion)\n",
        "\n",
        "# Cumplir años a una persona en el registro\n",
        "print(persona1.cumplir_anios())\n",
        "\n",
        "# Mostrar información actualizada\n",
        "for persona in registro.personas:\n",
        "    print(persona.informacion)\n"
      ],
      "metadata": {
        "colab": {
          "base_uri": "https://localhost:8080/"
        },
        "id": "MaJTmuIBVjTO",
        "outputId": "168b6336-a078-4d84-bcdf-ccf03a0e3899"
      },
      "execution_count": 1,
      "outputs": [
        {
          "output_type": "stream",
          "name": "stdout",
          "text": [
            "Nombre: Juan, Edad: 25, Género: Masculino\n",
            "Nombre: Maria, Edad: 30, Género: Femenino\n",
            "¡Feliz cumpleaños! Ahora tienes 26 años.\n",
            "Nombre: Juan, Edad: 26, Género: Masculino\n",
            "Nombre: Maria, Edad: 30, Género: Femenino\n"
          ]
        }
      ]
    }
  ]
}